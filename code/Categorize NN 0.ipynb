{
 "cells": [
  {
   "cell_type": "code",
   "id": "45014427fd239f08",
   "metadata": {
    "ExecuteTime": {
     "end_time": "2025-04-14T21:20:39.289394Z",
     "start_time": "2025-04-14T21:20:37.919288Z"
    }
   },
   "source": [
    "import os\n",
    "\n",
    "def find_matching_image_paths(bone_folder, brain_folder, subdural_folder):\n",
    "    \"\"\"\n",
    "    Walks through the subfolders and finds images with the same filename across all three directories.\n",
    "\n",
    "    Returns a list of tuples containing matching image paths from each folder.\n",
    "    \"\"\"\n",
    "    # Get the list of all image filenames in each directory\n",
    "    bone_images = set(os.listdir(bone_folder))\n",
    "    brain_images = set(os.listdir(brain_folder))\n",
    "    subdural_images = set(os.listdir(subdural_folder))\n",
    "\n",
    "    # Find common filenames across all three folders\n",
    "    common_files = bone_images.intersection(brain_images).intersection(subdural_images)\n",
    "\n",
    "    # Create a list of tuples with paths to the matching images\n",
    "    matching_image_paths = []\n",
    "    for filename in common_files:\n",
    "        bone_path = os.path.join(bone_folder, filename)\n",
    "        brain_path = os.path.join(brain_folder, filename)\n",
    "        subdural_path = os.path.join(subdural_folder, filename)\n",
    "        matching_image_paths.append((bone_path, brain_path, subdural_path))\n",
    "\n",
    "    return matching_image_paths\n",
    "\n",
    "epidural_bone_folder = 'renders/epidural/brain_bone_window'\n",
    "epidural_brain_folder = 'renders/epidural/brain_window'\n",
    "epidural_subdural_folder = 'renders/epidural/subdural_window'\n",
    "\n",
    "epidural_matching_paths = find_matching_image_paths(epidural_bone_folder, epidural_brain_folder, epidural_subdural_folder)\n",
    "len(epidural_matching_paths)\n",
    "\n",
    "intraparenchymal_bone_folder = 'renders/intraparenchymal/brain_bone_window'\n",
    "intraparenchymal_brain_folder = 'renders/intraparenchymal/brain_window'\n",
    "intraparenchymal_subdural_folder = 'renders/intraparenchymal/subdural_window'\n",
    "\n",
    "intraparenchymal_matching_paths = find_matching_image_paths(intraparenchymal_bone_folder, intraparenchymal_brain_folder, intraparenchymal_subdural_folder)\n",
    "len(intraparenchymal_matching_paths)\n",
    "\n",
    "intraventricular_bone_folder = 'renders/intraventricular/brain_bone_window'\n",
    "intraventricular_brain_folder = 'renders/intraventricular/brain_window'\n",
    "intraventricular_subdural_folder = 'renders/intraventricular/subdural_window'\n",
    "\n",
    "intraventricular_matching_paths = find_matching_image_paths(intraventricular_bone_folder, intraventricular_brain_folder, intraventricular_subdural_folder)\n",
    "len(intraventricular_matching_paths)\n",
    "\n",
    "multi_bone_folder = 'renders/multi/brain_bone_window'\n",
    "multi_brain_folder = 'renders/multi/brain_window'\n",
    "multi_subdural_folder = 'renders/multi/subdural_window'\n",
    "\n",
    "multi_matching_paths = find_matching_image_paths(multi_bone_folder, multi_brain_folder, multi_subdural_folder)\n",
    "len(multi_matching_paths)\n",
    "\n",
    "normal_bone_folder = 'renders/normal/brain_bone_window'\n",
    "normal_brain_folder = 'renders/normal/brain_window'\n",
    "normal_subdural_folder = 'renders/normal/subdural_window'\n",
    "\n",
    "normal_matching_paths = find_matching_image_paths(normal_bone_folder, normal_brain_folder, normal_subdural_folder)\n",
    "print(len(normal_matching_paths))\n",
    "\n",
    "subarachnoid_bone_folder = 'renders/subarachnoid/brain_bone_window'\n",
    "subarachnoid_brain_folder = 'renders/subarachnoid/brain_window'\n",
    "subarachnoid_subdural_folder = 'renders/subarachnoid/subdural_window'\n",
    "\n",
    "subarachnoid_matching_paths = find_matching_image_paths(subarachnoid_bone_folder, subarachnoid_brain_folder, subarachnoid_subdural_folder)\n",
    "len(subarachnoid_matching_paths)\n",
    "\n",
    "subdural_bone_folder = 'renders/subdural/brain_bone_window'\n",
    "subdural_brain_folder = 'renders/subdural/brain_window'\n",
    "subdural_subdural_folder = 'renders/subdural/subdural_window'\n",
    "\n",
    "subdural_matching_paths = find_matching_image_paths(subdural_bone_folder, subdural_brain_folder, subdural_subdural_folder)\n",
    "len(subdural_matching_paths)\n",
    "\n",
    "min_num_type = min(len(epidural_matching_paths),len(intraparenchymal_matching_paths),len(intraventricular_matching_paths),len(multi_matching_paths),len(normal_matching_paths),len(subarachnoid_matching_paths),len(subdural_matching_paths))\n",
    "print(min_num_type)"
   ],
   "outputs": [
    {
     "name": "stdout",
     "output_type": "stream",
     "text": [
      "6080\n",
      "1694\n"
     ]
    }
   ],
   "execution_count": 3
  },
  {
   "metadata": {
    "ExecuteTime": {
     "end_time": "2025-04-14T04:48:09.392928Z",
     "start_time": "2025-04-14T04:48:09.367272Z"
    }
   },
   "cell_type": "code",
   "source": [
    "min_num_type = min(len(epidural_matching_paths),len(intraparenchymal_matching_paths),len(intraventricular_matching_paths),len(normal_matching_paths),len(subarachnoid_matching_paths),len(subdural_matching_paths))\n",
    "min_num_type"
   ],
   "id": "b845acefd46b1272",
   "outputs": [
    {
     "data": {
      "text/plain": [
       "1694"
      ]
     },
     "execution_count": 3,
     "metadata": {},
     "output_type": "execute_result"
    }
   ],
   "execution_count": 3
  },
  {
   "metadata": {
    "collapsed": true
   },
   "cell_type": "code",
   "outputs": [],
   "execution_count": null,
   "source": [
    "epidural_img = []\n",
    "\n",
    "for paths in epidural_matching_paths[:min_num_type]:\n",
    "    rgb_image = load_and_stack_as_rgb(paths[0], paths[1], paths[2])\n",
    "\n",
    "    if (rgb_image.shape == (512, 512, 3)):\n",
    "        epidural_img.append(np.array(rgb_image))\n",
    "\n",
    "print(len(epidural_img))\n",
    "\n",
    "intraparenchymal_img = []\n",
    "\n",
    "for paths in intraparenchymal_matching_paths[:min_num_type]:\n",
    "    rgb_image = load_and_stack_as_rgb(paths[0], paths[1], paths[2])\n",
    "\n",
    "    if (rgb_image.shape == (512, 512, 3)):\n",
    "        intraparenchymal_img.append(np.array(rgb_image))\n",
    "\n",
    "print(len(intraparenchymal_img))\n",
    "\n",
    "intraventricular_img = []\n",
    "\n",
    "for paths in intraventricular_matching_paths[:min_num_type]:\n",
    "    rgb_image = load_and_stack_as_rgb(paths[0], paths[1], paths[2])\n",
    "\n",
    "    if (rgb_image.shape == (512, 512, 3)):\n",
    "        intraventricular_img.append(np.array(rgb_image))\n",
    "\n",
    "print(len(intraventricular_img))\n",
    "\n",
    "multi_img = []\n",
    "\n",
    "for paths in multi_matching_paths[:min_num_type]:\n",
    "    rgb_image = load_and_stack_as_rgb(paths[0], paths[1], paths[2])\n",
    "\n",
    "    if (rgb_image.shape == (512, 512, 3)):\n",
    "        multi_img.append(np.array(rgb_image))\n",
    "\n",
    "print(len(multi_img))\n",
    "\n",
    "normal_img = []\n",
    "\n",
    "for paths in normal_matching_paths[:min_num_type]:\n",
    "    rgb_image = load_and_stack_as_rgb(paths[0], paths[1], paths[2])\n",
    "\n",
    "    if (rgb_image.shape == (512, 512, 3)):\n",
    "        normal_img.append(np.array(rgb_image))\n",
    "\n",
    "print(len(normal_img))\n",
    "\n",
    "subarachnoid_img = []\n",
    "\n",
    "for paths in subarachnoid_matching_paths[:min_num_type]:\n",
    "    rgb_image = load_and_stack_as_rgb(paths[0], paths[1], paths[2])\n",
    "\n",
    "    if (rgb_image.shape == (512, 512, 3)):\n",
    "        subarachnoid_img.append(np.array(rgb_image))\n",
    "\n",
    "print(len(subarachnoid_img))\n",
    "\n",
    "subdural_img = []\n",
    "\n",
    "for paths in subdural_matching_paths[:min_num_type]:\n",
    "    rgb_image = load_and_stack_as_rgb(paths[0], paths[1], paths[2])\n",
    "\n",
    "    if (rgb_image.shape == (512, 512, 3)):\n",
    "        subdural_img.append(np.array(rgb_image))\n",
    "\n",
    "print(len(subdural_img))"
   ],
   "id": "initial_id"
  }
 ],
 "metadata": {
  "kernelspec": {
   "display_name": "Python 3",
   "language": "python",
   "name": "python3"
  },
  "language_info": {
   "codemirror_mode": {
    "name": "ipython",
    "version": 2
   },
   "file_extension": ".py",
   "mimetype": "text/x-python",
   "name": "python",
   "nbconvert_exporter": "python",
   "pygments_lexer": "ipython2",
   "version": "2.7.6"
  }
 },
 "nbformat": 4,
 "nbformat_minor": 5
}
